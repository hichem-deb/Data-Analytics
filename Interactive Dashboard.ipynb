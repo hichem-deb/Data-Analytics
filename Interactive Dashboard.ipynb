{
  "nbformat": 4,
  "nbformat_minor": 0,
  "metadata": {
    "colab": {
      "name": "Dashboard.ipynb",
      "provenance": [],
      "collapsed_sections": []
    },
    "kernelspec": {
      "display_name": "Python 3",
      "name": "python3"
    }
  },
  "cells": [
    {
      "cell_type": "markdown",
      "metadata": {
        "id": "Z-UiQu4-DJJy"
      },
      "source": [
        "**Installing Dash:**"
      ]
    },
    {
      "cell_type": "code",
      "metadata": {
        "id": "EbDNuQO1IY7y",
        "colab": {
          "base_uri": "https://localhost:8080/"
        },
        "outputId": "3ed58f47-000a-4c02-dcb7-7f3ef9565c88"
      },
      "source": [
        "!pip install jupyter-dash"
      ],
      "execution_count": null,
      "outputs": [
        {
          "output_type": "stream",
          "text": [
            "Requirement already satisfied: jupyter-dash in /usr/local/lib/python3.6/dist-packages (0.3.1)\n",
            "Requirement already satisfied: retrying in /usr/local/lib/python3.6/dist-packages (from jupyter-dash) (1.3.3)\n",
            "Requirement already satisfied: ipykernel in /usr/local/lib/python3.6/dist-packages (from jupyter-dash) (4.10.1)\n",
            "Requirement already satisfied: ansi2html in /usr/local/lib/python3.6/dist-packages (from jupyter-dash) (1.5.2)\n",
            "Requirement already satisfied: requests in /usr/local/lib/python3.6/dist-packages (from jupyter-dash) (2.23.0)\n",
            "Requirement already satisfied: dash in /usr/local/lib/python3.6/dist-packages (from jupyter-dash) (1.17.0)\n",
            "Requirement already satisfied: ipython in /usr/local/lib/python3.6/dist-packages (from jupyter-dash) (5.5.0)\n",
            "Requirement already satisfied: flask in /usr/local/lib/python3.6/dist-packages (from jupyter-dash) (1.1.2)\n",
            "Requirement already satisfied: six>=1.7.0 in /usr/local/lib/python3.6/dist-packages (from retrying->jupyter-dash) (1.15.0)\n",
            "Requirement already satisfied: tornado>=4.0 in /usr/local/lib/python3.6/dist-packages (from ipykernel->jupyter-dash) (5.1.1)\n",
            "Requirement already satisfied: jupyter-client in /usr/local/lib/python3.6/dist-packages (from ipykernel->jupyter-dash) (5.3.5)\n",
            "Requirement already satisfied: traitlets>=4.1.0 in /usr/local/lib/python3.6/dist-packages (from ipykernel->jupyter-dash) (4.3.3)\n",
            "Requirement already satisfied: certifi>=2017.4.17 in /usr/local/lib/python3.6/dist-packages (from requests->jupyter-dash) (2020.6.20)\n",
            "Requirement already satisfied: urllib3!=1.25.0,!=1.25.1,<1.26,>=1.21.1 in /usr/local/lib/python3.6/dist-packages (from requests->jupyter-dash) (1.24.3)\n",
            "Requirement already satisfied: idna<3,>=2.5 in /usr/local/lib/python3.6/dist-packages (from requests->jupyter-dash) (2.10)\n",
            "Requirement already satisfied: chardet<4,>=3.0.2 in /usr/local/lib/python3.6/dist-packages (from requests->jupyter-dash) (3.0.4)\n",
            "Requirement already satisfied: future in /usr/local/lib/python3.6/dist-packages (from dash->jupyter-dash) (0.16.0)\n",
            "Requirement already satisfied: plotly in /usr/local/lib/python3.6/dist-packages (from dash->jupyter-dash) (4.4.1)\n",
            "Requirement already satisfied: dash-html-components==1.1.1 in /usr/local/lib/python3.6/dist-packages (from dash->jupyter-dash) (1.1.1)\n",
            "Requirement already satisfied: dash-core-components==1.13.0 in /usr/local/lib/python3.6/dist-packages (from dash->jupyter-dash) (1.13.0)\n",
            "Requirement already satisfied: flask-compress in /usr/local/lib/python3.6/dist-packages (from dash->jupyter-dash) (1.8.0)\n",
            "Requirement already satisfied: dash-table==4.11.0 in /usr/local/lib/python3.6/dist-packages (from dash->jupyter-dash) (4.11.0)\n",
            "Requirement already satisfied: dash-renderer==1.8.3 in /usr/local/lib/python3.6/dist-packages (from dash->jupyter-dash) (1.8.3)\n",
            "Requirement already satisfied: simplegeneric>0.8 in /usr/local/lib/python3.6/dist-packages (from ipython->jupyter-dash) (0.8.1)\n",
            "Requirement already satisfied: pickleshare in /usr/local/lib/python3.6/dist-packages (from ipython->jupyter-dash) (0.7.5)\n",
            "Requirement already satisfied: pygments in /usr/local/lib/python3.6/dist-packages (from ipython->jupyter-dash) (2.6.1)\n",
            "Requirement already satisfied: prompt-toolkit<2.0.0,>=1.0.4 in /usr/local/lib/python3.6/dist-packages (from ipython->jupyter-dash) (1.0.18)\n",
            "Requirement already satisfied: decorator in /usr/local/lib/python3.6/dist-packages (from ipython->jupyter-dash) (4.4.2)\n",
            "Requirement already satisfied: pexpect; sys_platform != \"win32\" in /usr/local/lib/python3.6/dist-packages (from ipython->jupyter-dash) (4.8.0)\n",
            "Requirement already satisfied: setuptools>=18.5 in /usr/local/lib/python3.6/dist-packages (from ipython->jupyter-dash) (50.3.2)\n",
            "Requirement already satisfied: itsdangerous>=0.24 in /usr/local/lib/python3.6/dist-packages (from flask->jupyter-dash) (1.1.0)\n",
            "Requirement already satisfied: Jinja2>=2.10.1 in /usr/local/lib/python3.6/dist-packages (from flask->jupyter-dash) (2.11.2)\n",
            "Requirement already satisfied: Werkzeug>=0.15 in /usr/local/lib/python3.6/dist-packages (from flask->jupyter-dash) (1.0.1)\n",
            "Requirement already satisfied: click>=5.1 in /usr/local/lib/python3.6/dist-packages (from flask->jupyter-dash) (7.1.2)\n",
            "Requirement already satisfied: jupyter-core>=4.6.0 in /usr/local/lib/python3.6/dist-packages (from jupyter-client->ipykernel->jupyter-dash) (4.6.3)\n",
            "Requirement already satisfied: pyzmq>=13 in /usr/local/lib/python3.6/dist-packages (from jupyter-client->ipykernel->jupyter-dash) (19.0.2)\n",
            "Requirement already satisfied: python-dateutil>=2.1 in /usr/local/lib/python3.6/dist-packages (from jupyter-client->ipykernel->jupyter-dash) (2.8.1)\n",
            "Requirement already satisfied: ipython-genutils in /usr/local/lib/python3.6/dist-packages (from traitlets>=4.1.0->ipykernel->jupyter-dash) (0.2.0)\n",
            "Requirement already satisfied: brotli in /usr/local/lib/python3.6/dist-packages (from flask-compress->dash->jupyter-dash) (1.0.9)\n",
            "Requirement already satisfied: wcwidth in /usr/local/lib/python3.6/dist-packages (from prompt-toolkit<2.0.0,>=1.0.4->ipython->jupyter-dash) (0.2.5)\n",
            "Requirement already satisfied: ptyprocess>=0.5 in /usr/local/lib/python3.6/dist-packages (from pexpect; sys_platform != \"win32\"->ipython->jupyter-dash) (0.6.0)\n",
            "Requirement already satisfied: MarkupSafe>=0.23 in /usr/local/lib/python3.6/dist-packages (from Jinja2>=2.10.1->flask->jupyter-dash) (1.1.1)\n"
          ],
          "name": "stdout"
        }
      ]
    },
    {
      "cell_type": "markdown",
      "metadata": {
        "id": "s9BfHv5pDs_r"
      },
      "source": [
        "**Importing Libraries:**"
      ]
    },
    {
      "cell_type": "code",
      "metadata": {
        "id": "cEBokAZPI9sc"
      },
      "source": [
        "import pandas as pd\n",
        "import numpy as np\n",
        "import matplotlib as mpl\n",
        "import matplotlib.pyplot as plt\n",
        "\n",
        "import plotly.express as px\n",
        "from jupyter_dash import JupyterDash\n",
        "import dash_core_components as dcc\n",
        "import dash_html_components as html\n",
        "from dash.dependencies import Input, Output\n"
      ],
      "execution_count": null,
      "outputs": []
    },
    {
      "cell_type": "markdown",
      "metadata": {
        "id": "Ds34TWW6C19g"
      },
      "source": [
        "**Importing file from Google Drive:**"
      ]
    },
    {
      "cell_type": "code",
      "metadata": {
        "id": "g2mq4PvGJFoB",
        "colab": {
          "base_uri": "https://localhost:8080/"
        },
        "outputId": "65076672-8b5d-4499-a6f6-086f26f260d4"
      },
      "source": [
        "from google.colab import drive\n",
        " \n",
        "drive.mount('/content/drive')\n",
        " \n",
        "!ls \"/content/drive/My Drive\""
      ],
      "execution_count": null,
      "outputs": [
        {
          "output_type": "stream",
          "text": [
            "Drive already mounted at /content/drive; to attempt to forcibly remount, call drive.mount(\"/content/drive\", force_remount=True).\n",
            " Animals\t     Dossier\t\t  my_new_Data.xls    TEPUP2019\n",
            " AnimalsNew.rar      ex7.py.gdoc\t  New.csv\t     test2.csv\n",
            " Classroom\t     exp.gsheet\t\t  new_test.csv\t     Test.csv\n",
            "'Colab Notebooks'   'file - Copie.gdoc'   Nou.csv\t     test.html\n",
            " cotations-AB.xlsx   final.xlsx\t\t  preview\t     Train.csv\n",
            " css_sheet.css\t     house-prices.csv\t 'scores (1).gdoc'   yalefaces\n",
            " DataSample199.xls   index.html\t\t  scores.gdoc\n",
            " data.xlsx\t     iris.csv\t\t  spam.csv\n",
            " diabetes.csv\t     kids.css\t\t  tekup_data.csv\n"
          ],
          "name": "stdout"
        }
      ]
    },
    {
      "cell_type": "markdown",
      "metadata": {
        "id": "_4Een4ygKN8G"
      },
      "source": [
        "**Read the file:**"
      ]
    },
    {
      "cell_type": "code",
      "metadata": {
        "id": "FshjTDV9JGRg"
      },
      "source": [
        "import os \n",
        "os.getcwd()\n",
        "os.chdir('/content/drive/My Drive')\n",
        "df = pd.read_excel(\"/content/drive/My Drive/my_new_Data.xls\")"
      ],
      "execution_count": null,
      "outputs": []
    },
    {
      "cell_type": "markdown",
      "metadata": {
        "id": "nOV2_wJLEIIr"
      },
      "source": [
        "**Tab 1: Numbers of agents, products and particulars + Average elapsed Time:**"
      ]
    },
    {
      "cell_type": "code",
      "metadata": {
        "id": "ujwFOZR-JcXV"
      },
      "source": [
        "#list of all agents\n",
        "list_of_agents = df['agent_id'].unique()\n",
        "r = list_of_agents.reshape(-1,1)\n",
        "\n",
        "#list of all products\n",
        "list_of_products = df['product_id'].unique()\n",
        "pr_r = list_of_products.reshape(-1,1)\n",
        "\n",
        "#list of all particulars\n",
        "list_of_particulars = df['part_id'].unique()\n",
        "pa_r = list_of_particulars.reshape(-1,1)\n",
        "\n",
        "#list of all tasks\n",
        "list_of_tasks = df['task_id'].unique()\n",
        "ta_r = list_of_tasks.reshape(-1,1)"
      ],
      "execution_count": null,
      "outputs": []
    },
    {
      "cell_type": "markdown",
      "metadata": {
        "id": "LypenbogErYR"
      },
      "source": [
        "I created lists of agents, products, particulars and tasks using the  function: unique()"
      ]
    },
    {
      "cell_type": "code",
      "metadata": {
        "id": "rihby1ATo6mS",
        "colab": {
          "base_uri": "https://localhost:8080/",
          "height": 142
        },
        "outputId": "58abd45e-bc3a-4d49-da67-ce684ed89904"
      },
      "source": [
        "data = [['Total Number Of Agents', r.shape[0]], ['Total Number Of Products', pr_r.shape[0]], ['Total Number Of Particulars', pa_r.shape[0]]] \n",
        "df_df = pd.DataFrame(data, columns = ['Name', 'Numbers'])\n",
        "df_df"
      ],
      "execution_count": null,
      "outputs": [
        {
          "output_type": "execute_result",
          "data": {
            "text/html": [
              "<div>\n",
              "<style scoped>\n",
              "    .dataframe tbody tr th:only-of-type {\n",
              "        vertical-align: middle;\n",
              "    }\n",
              "\n",
              "    .dataframe tbody tr th {\n",
              "        vertical-align: top;\n",
              "    }\n",
              "\n",
              "    .dataframe thead th {\n",
              "        text-align: right;\n",
              "    }\n",
              "</style>\n",
              "<table border=\"1\" class=\"dataframe\">\n",
              "  <thead>\n",
              "    <tr style=\"text-align: right;\">\n",
              "      <th></th>\n",
              "      <th>Name</th>\n",
              "      <th>Numbers</th>\n",
              "    </tr>\n",
              "  </thead>\n",
              "  <tbody>\n",
              "    <tr>\n",
              "      <th>0</th>\n",
              "      <td>Total Number Of Agents</td>\n",
              "      <td>44</td>\n",
              "    </tr>\n",
              "    <tr>\n",
              "      <th>1</th>\n",
              "      <td>Total Number Of Products</td>\n",
              "      <td>56</td>\n",
              "    </tr>\n",
              "    <tr>\n",
              "      <th>2</th>\n",
              "      <td>Total Number Of Particulars</td>\n",
              "      <td>41</td>\n",
              "    </tr>\n",
              "  </tbody>\n",
              "</table>\n",
              "</div>"
            ],
            "text/plain": [
              "                          Name  Numbers\n",
              "0       Total Number Of Agents       44\n",
              "1     Total Number Of Products       56\n",
              "2  Total Number Of Particulars       41"
            ]
          },
          "metadata": {
            "tags": []
          },
          "execution_count": 160
        }
      ]
    },
    {
      "cell_type": "markdown",
      "metadata": {
        "id": "D9fMNtsdFgGC"
      },
      "source": [
        "I calculated numbers of agents, products and particulars and i puted them into new dataframe called: df_df"
      ]
    },
    {
      "cell_type": "code",
      "metadata": {
        "id": "svfb66ZyqOv5",
        "colab": {
          "base_uri": "https://localhost:8080/"
        },
        "outputId": "83404934-8c07-435a-e69b-5b108973a1e6"
      },
      "source": [
        "i=0\n",
        "xi=0\n",
        "yi=0\n",
        "for i in range (0, len(df['time_elapsed'])):\n",
        "  if df['time_elapsed'][i] > 0 :\n",
        "    xi= df['time_elapsed'][i]+xi\n",
        "    yi=yi+1\n",
        "xy=xi/yi\n",
        "xy"
      ],
      "execution_count": null,
      "outputs": [
        {
          "output_type": "execute_result",
          "data": {
            "text/plain": [
              "0.08972728159610643"
            ]
          },
          "metadata": {
            "tags": []
          },
          "execution_count": 161
        }
      ]
    },
    {
      "cell_type": "markdown",
      "metadata": {
        "id": "5tSovEZ7F-9_"
      },
      "source": [
        "I calculated the average elapsed time and i elimanted negative values"
      ]
    },
    {
      "cell_type": "code",
      "metadata": {
        "id": "RhYoEKPLJMu-",
        "colab": {
          "base_uri": "https://localhost:8080/"
        },
        "outputId": "4496dbd0-4804-42fa-e71d-3a70fe25b8e8"
      },
      "source": [
        "#create agents dataframe\n",
        "ag_df = pd.DataFrame() \n",
        "ag_df['agent_id'] = df['agent_id'].unique()\n",
        "\n",
        "#create products dataframe\n",
        "pr_df = pd.DataFrame() \n",
        "pr_df['product_id'] = df['product_id'].unique()\n",
        "\n",
        "\n",
        "#create particulars dataframe\n",
        "pa_df = pd.DataFrame() \n",
        "pa_df['part_id'] = df['part_id'].unique()\n",
        "\n",
        "#create tasks dataframe\n",
        "ta_df = pd.DataFrame() \n",
        "ta_df['task_id'] = df['task_id'].unique()\n",
        "ta_df.shape\n",
        "\n",
        "\n",
        "\n"
      ],
      "execution_count": null,
      "outputs": [
        {
          "output_type": "execute_result",
          "data": {
            "text/plain": [
              "(5550, 1)"
            ]
          },
          "metadata": {
            "tags": []
          },
          "execution_count": 162
        }
      ]
    },
    {
      "cell_type": "markdown",
      "metadata": {
        "id": "k81vOVK6Ggjm"
      },
      "source": [
        "I created new dataframes with unique agents, products, particulars and tasks using the  function: unique()"
      ]
    },
    {
      "cell_type": "markdown",
      "metadata": {
        "id": "JLKKbshFGxTm"
      },
      "source": [
        "**Tab2: Tasks and elapsed time by agent:**"
      ]
    },
    {
      "cell_type": "code",
      "metadata": {
        "id": "Sa-S7Kd7JfT4",
        "colab": {
          "base_uri": "https://localhost:8080/",
          "height": 204
        },
        "outputId": "be77d664-1acb-48d6-bef0-89d8be0acf64"
      },
      "source": [
        "#Extract tasks by agent\n",
        "s =[]\n",
        "i=0\n",
        "j=0\n",
        "x=0\n",
        "for i in range(0, len(r)):\n",
        "  for j in range(0, len(df['agent_id'])):\n",
        "    if r[i] == df['agent_id'][j]:\n",
        "      x=x+1\n",
        "  s.append(x)\n",
        "  x=0\n",
        "ag_df['all_tasks']=s\n",
        "\n",
        "#Extract successful and unsuccessful tasks by agent\n",
        "t=[]\n",
        "k=[]\n",
        "i=0\n",
        "j=0\n",
        "v=0\n",
        "w=0\n",
        "for i in range(0, len(r)):\n",
        "  for j in range(0, len(df['agent_id'])):\n",
        "    if r[i] == df['agent_id'][j] and df['percent'][j] == 100:\n",
        "      v=v+1\n",
        "    elif r[i] == df['agent_id'][j] and df['percent'][j] != 100:\n",
        "      w=w+1\n",
        "  t.append(v)\n",
        "  k.append(w)\n",
        "  v=0\n",
        "  w=0\n",
        "ag_df['sucess_tasks']=t\n",
        "ag_df['unsucess_tasks']=k\n",
        "\n",
        "#total time elpsed by agent\n",
        "z =[]\n",
        "i=0\n",
        "j=0\n",
        "ti=0\n",
        "for i in range(0, len(r)):\n",
        "  for j in range(0, len(df['agent_id'])):\n",
        "    if r[i] == df['agent_id'][j] and df['time_elapsed'][j] >0:\n",
        "      ti= df['time_elapsed'][j]+ti\n",
        "  z.append(ti)\n",
        "  ti=0\n",
        "ag_df['total_time_elapsed']=z\n",
        "\n",
        "#final modification\n",
        "rr=[ item for elem in r for item in elem]  \n",
        "ag_df['id']=rr\n",
        "ag_df['id'] = 'Agent ' + ag_df['id'].astype(str)\n",
        "ag_df.head()\n",
        "\n",
        "\n"
      ],
      "execution_count": null,
      "outputs": [
        {
          "output_type": "execute_result",
          "data": {
            "text/html": [
              "<div>\n",
              "<style scoped>\n",
              "    .dataframe tbody tr th:only-of-type {\n",
              "        vertical-align: middle;\n",
              "    }\n",
              "\n",
              "    .dataframe tbody tr th {\n",
              "        vertical-align: top;\n",
              "    }\n",
              "\n",
              "    .dataframe thead th {\n",
              "        text-align: right;\n",
              "    }\n",
              "</style>\n",
              "<table border=\"1\" class=\"dataframe\">\n",
              "  <thead>\n",
              "    <tr style=\"text-align: right;\">\n",
              "      <th></th>\n",
              "      <th>agent_id</th>\n",
              "      <th>all_tasks</th>\n",
              "      <th>sucess_tasks</th>\n",
              "      <th>unsucess_tasks</th>\n",
              "      <th>total_time_elapsed</th>\n",
              "      <th>id</th>\n",
              "    </tr>\n",
              "  </thead>\n",
              "  <tbody>\n",
              "    <tr>\n",
              "      <th>0</th>\n",
              "      <td>2728806</td>\n",
              "      <td>322</td>\n",
              "      <td>239</td>\n",
              "      <td>83</td>\n",
              "      <td>2.293241</td>\n",
              "      <td>Agent 2728806</td>\n",
              "    </tr>\n",
              "    <tr>\n",
              "      <th>1</th>\n",
              "      <td>2708584</td>\n",
              "      <td>182</td>\n",
              "      <td>168</td>\n",
              "      <td>14</td>\n",
              "      <td>1.374850</td>\n",
              "      <td>Agent 2708584</td>\n",
              "    </tr>\n",
              "    <tr>\n",
              "      <th>2</th>\n",
              "      <td>2738196</td>\n",
              "      <td>432</td>\n",
              "      <td>348</td>\n",
              "      <td>84</td>\n",
              "      <td>2.614722</td>\n",
              "      <td>Agent 2738196</td>\n",
              "    </tr>\n",
              "    <tr>\n",
              "      <th>3</th>\n",
              "      <td>2804235</td>\n",
              "      <td>1969</td>\n",
              "      <td>1631</td>\n",
              "      <td>338</td>\n",
              "      <td>24.908669</td>\n",
              "      <td>Agent 2804235</td>\n",
              "    </tr>\n",
              "    <tr>\n",
              "      <th>4</th>\n",
              "      <td>2707300</td>\n",
              "      <td>991</td>\n",
              "      <td>562</td>\n",
              "      <td>429</td>\n",
              "      <td>8.965822</td>\n",
              "      <td>Agent 2707300</td>\n",
              "    </tr>\n",
              "  </tbody>\n",
              "</table>\n",
              "</div>"
            ],
            "text/plain": [
              "   agent_id  all_tasks  ...  total_time_elapsed             id\n",
              "0   2728806        322  ...            2.293241  Agent 2728806\n",
              "1   2708584        182  ...            1.374850  Agent 2708584\n",
              "2   2738196        432  ...            2.614722  Agent 2738196\n",
              "3   2804235       1969  ...           24.908669  Agent 2804235\n",
              "4   2707300        991  ...            8.965822  Agent 2707300\n",
              "\n",
              "[5 rows x 6 columns]"
            ]
          },
          "metadata": {
            "tags": []
          },
          "execution_count": 163
        }
      ]
    },
    {
      "cell_type": "markdown",
      "metadata": {
        "id": "JLeq-uAqItGs"
      },
      "source": [
        "I calculated the sucess and unsucess tasks using the percent comlumn and eliminate the negative values when i calculated the total time elapsed, also i added a new column 'id' with a str type "
      ]
    },
    {
      "cell_type": "markdown",
      "metadata": {
        "id": "JRhMg18hHPWK"
      },
      "source": [
        "**Tab3: Tasks and elapsed time by product:**"
      ]
    },
    {
      "cell_type": "code",
      "metadata": {
        "id": "ZTSDePfUG2BO",
        "colab": {
          "base_uri": "https://localhost:8080/",
          "height": 204
        },
        "outputId": "9ad192df-6aa4-4945-dc98-30f54f2b38b8"
      },
      "source": [
        "#Extract tasks by product\n",
        "pr_s =[]\n",
        "i=0\n",
        "j=0\n",
        "x=0\n",
        "for i in range(0, len(pr_r)):\n",
        "  for j in range(0, len(df['product_id'])):\n",
        "    if pr_r[i] == df['product_id'][j]:\n",
        "      x=x+1\n",
        "  pr_s.append(x)\n",
        "  x=0\n",
        "\n",
        "pr_df['all_tasks']=pr_s\n",
        "\n",
        "#Extract successful and unsuccessful tasks by product\n",
        "pr_t=[]\n",
        "pr_k=[]\n",
        "i=0\n",
        "j=0\n",
        "v=0\n",
        "w=0\n",
        "for i in range(0, len(pr_r)):\n",
        "  for j in range(0, len(df['product_id'])):\n",
        "    if pr_r[i] == df['product_id'][j] and df['percent'][j] == 100:\n",
        "      v=v+1\n",
        "    elif pr_r[i] == df['product_id'][j] and df['percent'][j] != 100:\n",
        "      w=w+1\n",
        "  pr_t.append(v)\n",
        "  pr_k.append(w)\n",
        "  v=0\n",
        "  w=0\n",
        "pr_df['sucess_tasks']=pr_t\n",
        "pr_df['unsucess_tasks']=pr_k\n",
        "#Extract total time elapsed by product\n",
        "pr_z =[]\n",
        "i=0\n",
        "j=0\n",
        "ti=0\n",
        "for i in range(0, len(pr_r)):\n",
        "  for j in range(0, len(df['product_id'])):\n",
        "    if pr_r[i] == df['product_id'][j] and df['time_elapsed'][j] >0:\n",
        "      ti= df['time_elapsed'][j]+ti\n",
        "  pr_z.append(ti)\n",
        "  ti=0\n",
        "pr_df['total_time_elapsed']=pr_z\n",
        "\n",
        "#final modification\n",
        "pr_rr=[ item for elem in pr_r for item in elem]  \n",
        "pr_df['id']=pr_rr\n",
        "pr_df['id'] = 'Product ' + pr_df['id'].astype(str)\n",
        "pr_df.head()\n",
        "\n",
        "\n"
      ],
      "execution_count": null,
      "outputs": [
        {
          "output_type": "execute_result",
          "data": {
            "text/html": [
              "<div>\n",
              "<style scoped>\n",
              "    .dataframe tbody tr th:only-of-type {\n",
              "        vertical-align: middle;\n",
              "    }\n",
              "\n",
              "    .dataframe tbody tr th {\n",
              "        vertical-align: top;\n",
              "    }\n",
              "\n",
              "    .dataframe thead th {\n",
              "        text-align: right;\n",
              "    }\n",
              "</style>\n",
              "<table border=\"1\" class=\"dataframe\">\n",
              "  <thead>\n",
              "    <tr style=\"text-align: right;\">\n",
              "      <th></th>\n",
              "      <th>product_id</th>\n",
              "      <th>all_tasks</th>\n",
              "      <th>sucess_tasks</th>\n",
              "      <th>unsucess_tasks</th>\n",
              "      <th>total_time_elapsed</th>\n",
              "      <th>id</th>\n",
              "    </tr>\n",
              "  </thead>\n",
              "  <tbody>\n",
              "    <tr>\n",
              "      <th>0</th>\n",
              "      <td>9248</td>\n",
              "      <td>337</td>\n",
              "      <td>283</td>\n",
              "      <td>54</td>\n",
              "      <td>3.269097</td>\n",
              "      <td>Product 9248</td>\n",
              "    </tr>\n",
              "    <tr>\n",
              "      <th>1</th>\n",
              "      <td>9247</td>\n",
              "      <td>329</td>\n",
              "      <td>269</td>\n",
              "      <td>60</td>\n",
              "      <td>2.804595</td>\n",
              "      <td>Product 9247</td>\n",
              "    </tr>\n",
              "    <tr>\n",
              "      <th>2</th>\n",
              "      <td>9249</td>\n",
              "      <td>650</td>\n",
              "      <td>488</td>\n",
              "      <td>162</td>\n",
              "      <td>358.501148</td>\n",
              "      <td>Product 9249</td>\n",
              "    </tr>\n",
              "    <tr>\n",
              "      <th>3</th>\n",
              "      <td>9245</td>\n",
              "      <td>34</td>\n",
              "      <td>34</td>\n",
              "      <td>0</td>\n",
              "      <td>0.321030</td>\n",
              "      <td>Product 9245</td>\n",
              "    </tr>\n",
              "    <tr>\n",
              "      <th>4</th>\n",
              "      <td>9246</td>\n",
              "      <td>1</td>\n",
              "      <td>1</td>\n",
              "      <td>0</td>\n",
              "      <td>0.007292</td>\n",
              "      <td>Product 9246</td>\n",
              "    </tr>\n",
              "  </tbody>\n",
              "</table>\n",
              "</div>"
            ],
            "text/plain": [
              "   product_id  all_tasks  ...  total_time_elapsed            id\n",
              "0        9248        337  ...            3.269097  Product 9248\n",
              "1        9247        329  ...            2.804595  Product 9247\n",
              "2        9249        650  ...          358.501148  Product 9249\n",
              "3        9245         34  ...            0.321030  Product 9245\n",
              "4        9246          1  ...            0.007292  Product 9246\n",
              "\n",
              "[5 rows x 6 columns]"
            ]
          },
          "metadata": {
            "tags": []
          },
          "execution_count": 164
        }
      ]
    },
    {
      "cell_type": "markdown",
      "metadata": {
        "id": "6uGtlVgjJcMc"
      },
      "source": [
        "I calculated the sucess and unsucess tasks using the percent comlumn and eliminate the negative values when i calculated the total time elapsed, also i added a new column 'id' with a str type "
      ]
    },
    {
      "cell_type": "markdown",
      "metadata": {
        "id": "F42OGxs9HkAr"
      },
      "source": [
        "**Tab4: Tasks and elapsed time by particular:**"
      ]
    },
    {
      "cell_type": "code",
      "metadata": {
        "id": "oDs4HbPwKr8x",
        "colab": {
          "base_uri": "https://localhost:8080/",
          "height": 204
        },
        "outputId": "18256f40-eb66-4eec-fd23-d3f084fc48a4"
      },
      "source": [
        "#Extract tasks by particular\n",
        "pa_s =[]\n",
        "i=0\n",
        "j=0\n",
        "x=0\n",
        "for i in range(0, len(pa_r)):\n",
        "  for j in range(0, len(df['part_id'])):\n",
        "    if pa_r[i] == df['part_id'][j]:\n",
        "      x=x+1\n",
        "  pa_s.append(x)\n",
        "  x=0\n",
        "\n",
        "pa_df['all_tasks']=pa_s\n",
        "\n",
        "#Extract successful and unsuccessful tasks by particular\n",
        "pa_t=[]\n",
        "pa_k=[]\n",
        "i=0\n",
        "j=0\n",
        "v=0\n",
        "w=0\n",
        "for i in range(0, len(pa_r)):\n",
        "  for j in range(0, len(df['part_id'])):\n",
        "    if pa_r[i] == df['part_id'][j] and df['percent'][j] == 100:\n",
        "      v=v+1\n",
        "    elif pa_r[i] == df['part_id'][j] and df['percent'][j] != 100:\n",
        "      w=w+1\n",
        "  pa_t.append(v)\n",
        "  pa_k.append(w)\n",
        "  v=0\n",
        "  w=0\n",
        "pa_df['sucess_tasks']=pa_t\n",
        "pa_df['unsucess_tasks']=pa_k\n",
        "\n",
        "#Extract total time elapsed by particular\n",
        "pa_z =[]\n",
        "i=0\n",
        "j=0\n",
        "ti=0\n",
        "for i in range(0, len(pa_r)):\n",
        "  for j in range(0, len(df['part_id'])):\n",
        "    if pa_r[i] == df['part_id'][j] and df['time_elapsed'][j] >0:\n",
        "      ti= df['time_elapsed'][j]+ti\n",
        "  pa_z.append(ti)\n",
        "  ti=0\n",
        "pa_df['total_time_elapsed']=pa_z\n",
        "\n",
        "#final modification\n",
        "pa_rr=[ item for elem in pa_r for item in elem]  \n",
        "pa_df['id']=pa_rr\n",
        "pa_df['id'] = 'Particular ' + pa_df['id'].astype(str)\n",
        "pa_df.head()\n"
      ],
      "execution_count": null,
      "outputs": [
        {
          "output_type": "execute_result",
          "data": {
            "text/html": [
              "<div>\n",
              "<style scoped>\n",
              "    .dataframe tbody tr th:only-of-type {\n",
              "        vertical-align: middle;\n",
              "    }\n",
              "\n",
              "    .dataframe tbody tr th {\n",
              "        vertical-align: top;\n",
              "    }\n",
              "\n",
              "    .dataframe thead th {\n",
              "        text-align: right;\n",
              "    }\n",
              "</style>\n",
              "<table border=\"1\" class=\"dataframe\">\n",
              "  <thead>\n",
              "    <tr style=\"text-align: right;\">\n",
              "      <th></th>\n",
              "      <th>part_id</th>\n",
              "      <th>all_tasks</th>\n",
              "      <th>sucess_tasks</th>\n",
              "      <th>unsucess_tasks</th>\n",
              "      <th>total_time_elapsed</th>\n",
              "      <th>id</th>\n",
              "    </tr>\n",
              "  </thead>\n",
              "  <tbody>\n",
              "    <tr>\n",
              "      <th>0</th>\n",
              "      <td>111</td>\n",
              "      <td>287</td>\n",
              "      <td>264</td>\n",
              "      <td>23</td>\n",
              "      <td>0.895104</td>\n",
              "      <td>Particular 111</td>\n",
              "    </tr>\n",
              "    <tr>\n",
              "      <th>1</th>\n",
              "      <td>102</td>\n",
              "      <td>523</td>\n",
              "      <td>322</td>\n",
              "      <td>201</td>\n",
              "      <td>4.686146</td>\n",
              "      <td>Particular 102</td>\n",
              "    </tr>\n",
              "    <tr>\n",
              "      <th>2</th>\n",
              "      <td>120</td>\n",
              "      <td>774</td>\n",
              "      <td>658</td>\n",
              "      <td>116</td>\n",
              "      <td>4.236262</td>\n",
              "      <td>Particular 120</td>\n",
              "    </tr>\n",
              "    <tr>\n",
              "      <th>3</th>\n",
              "      <td>110</td>\n",
              "      <td>213</td>\n",
              "      <td>204</td>\n",
              "      <td>9</td>\n",
              "      <td>0.940197</td>\n",
              "      <td>Particular 110</td>\n",
              "    </tr>\n",
              "    <tr>\n",
              "      <th>4</th>\n",
              "      <td>124</td>\n",
              "      <td>545</td>\n",
              "      <td>400</td>\n",
              "      <td>145</td>\n",
              "      <td>4.573183</td>\n",
              "      <td>Particular 124</td>\n",
              "    </tr>\n",
              "  </tbody>\n",
              "</table>\n",
              "</div>"
            ],
            "text/plain": [
              "   part_id  all_tasks  ...  total_time_elapsed              id\n",
              "0      111        287  ...            0.895104  Particular 111\n",
              "1      102        523  ...            4.686146  Particular 102\n",
              "2      120        774  ...            4.236262  Particular 120\n",
              "3      110        213  ...            0.940197  Particular 110\n",
              "4      124        545  ...            4.573183  Particular 124\n",
              "\n",
              "[5 rows x 6 columns]"
            ]
          },
          "metadata": {
            "tags": []
          },
          "execution_count": 165
        }
      ]
    },
    {
      "cell_type": "markdown",
      "metadata": {
        "id": "jlbrBGNUJeNb"
      },
      "source": [
        "I calculated the sucess and unsucess tasks using the percent comlumn and eliminate the negative values when i calculated the total time elapsed, also i added a new column 'id' with a str type "
      ]
    },
    {
      "cell_type": "markdown",
      "metadata": {
        "id": "FKZbIWD6IQhO"
      },
      "source": [
        "\n",
        "**Building Dashboards using Dash:**"
      ]
    },
    {
      "cell_type": "code",
      "metadata": {
        "id": "PXatPydISYbV"
      },
      "source": [
        "external_stylesheets = ['https://codepen.io/chriddyp/pen/bWLwgP.css']\n",
        "app = JupyterDash(__name__, external_stylesheets=external_stylesheets)\n",
        "\n",
        "app.layout = html.Div([\n",
        "    html.Br(),\n",
        "    html.H1(\"Web Application Dashboards\", style={'color':'rgb(43, 129, 186)','font-size':'300%','font-family':'verdana','text-align': 'center'}), \n",
        "    html.Br(),\n",
        "\n",
        "    dcc.Tabs(id=\"tabs\", value='tab-1', children=[\n",
        "        dcc.Tab(label='General Analysis', value='tab-1'),\n",
        "        dcc.Tab(label='Agents Analysis', value='tab-2'),\n",
        "        dcc.Tab(label='Products Analysis', value='tab-3'),\n",
        "        dcc.Tab(label='Particular Analysis', value='tab-4'),\n",
        "    ]),\n",
        "    html.Div(id='tabs-content')\n",
        "])\n",
        "\n",
        "@app.callback(Output('tabs-content', 'children'),\n",
        "              [Input('tabs', 'value')])\n",
        "def render_content(tab):\n",
        "    if tab == 'tab-1':\n",
        "        return [html.Div([\n",
        "              html.H3(\n",
        "dcc.Graph(\n",
        "        id='example-graph',\n",
        "        figure={\n",
        "            'data': [\n",
        "                {'x': df_df['Name'] , 'y': df_df['Numbers'], 'type': 'bar', 'name': 'Successfull Tasks'},\n",
        "            ],\n",
        "\n",
        "        }\n",
        "    )\n",
        "            )\n",
        "\n",
        "        ]),\n",
        "        html.Div(\n",
        "                html.H3(\"Average Elapsed Time :\", style={'font-family':'sans-serif','text-align': 'center'})) ,\n",
        "        html.Div(\n",
        "                html.H3(xy, style={'font-family':'sans-serif','text-align': 'center'})) ,\n",
        "]\n",
        "\n",
        "        \n",
        "    elif tab == 'tab-2':\n",
        "        return [ html.Div([\n",
        "            html.H3(\n",
        "dcc.Graph(\n",
        "        id='example-graph',\n",
        "        figure={\n",
        "            'data': [\n",
        "                {'x': ag_df['id'] , 'y': ag_df['sucess_tasks'], 'type': 'bar', 'name': 'Successfull Tasks'},\n",
        "                {'x': ag_df['id'], 'y': ag_df['unsucess_tasks'], 'type': 'bar', 'name': u'Unsuccessfull Tasks'},\n",
        "            ],\n",
        "            'layout': {\n",
        "                'title': 'Number Of tasks Executed By Each Agent'\n",
        "            }\n",
        "        }\n",
        "    )\n",
        "            )\n",
        "        ]),\n",
        "          \n",
        "          html.Div([\n",
        "            html.H3(\n",
        "dcc.Graph(\n",
        "        id='example-graph',\n",
        "        figure={\n",
        "            'data': [\n",
        "                {'x': ag_df['id'] , 'y': ag_df['total_time_elapsed'], 'type': 'bar', 'name': 'Total Time Elapsed'},\n",
        "            ],\n",
        "            'layout': {\n",
        "                'title': 'Total Elapsed Time By Each Agent'\n",
        "            }\n",
        "        }\n",
        "    )\n",
        "            )\n",
        "        ])]\n",
        "          \n",
        "    elif tab == 'tab-3':\n",
        "        return [html.Div([\n",
        "            html.H3(\n",
        "dcc.Graph(\n",
        "        id='example-graph2',\n",
        "        figure={\n",
        "            'data': [\n",
        "                {'x': pr_df['id'] , 'y': pr_df['sucess_tasks'], 'type': 'bar', 'name': 'Successfull Tasks'},\n",
        "                {'x': pr_df['id'], 'y': pr_df['unsucess_tasks'], 'type': 'bar', 'name': u'Unsuccessfull Tasks'},\n",
        "            ],\n",
        "            'layout': {\n",
        "                'title': 'Number Of tasks Executed On Each Product'\n",
        "            }\n",
        "        }\n",
        "    )\n",
        "            )\n",
        "        ]),\n",
        "          \n",
        "          html.Div([\n",
        "            html.H3(\n",
        "dcc.Graph(\n",
        "        id='example-graph',\n",
        "        figure={\n",
        "            'data': [\n",
        "                {'x': pr_df['id'] , 'y': pr_df['total_time_elapsed'], 'type': 'bar', 'name': 'Total Time Elapsed'},\n",
        "            ],\n",
        "            'layout': {\n",
        "                'title': 'Total Elapsed Time On Each Product'\n",
        "            }\n",
        "        }\n",
        "    )\n",
        "            )\n",
        "        ])]\n",
        "\n",
        "    elif tab == 'tab-4':\n",
        "        return [html.Div([\n",
        "            html.H3(\n",
        "dcc.Graph(\n",
        "        id='example-graph3',\n",
        "        figure={\n",
        "            'data': [\n",
        "                {'x': pa_df['id'] , 'y': pa_df['sucess_tasks'], 'type': 'bar', 'name': 'Successfull Tasks' },\n",
        "                {'x': pa_df['id'], 'y': pa_df['unsucess_tasks'], 'type': 'bar', 'name': 'Unsuccessfull Tasks'},\n",
        "            ],\n",
        "            'layout': {\n",
        "                'title': 'Number Of tasks Executed On Each Particular'\n",
        "            }\n",
        "        }\n",
        "    )\n",
        "            )\n",
        "        ]),\n",
        "          \n",
        "          html.Div([\n",
        "            html.H3(\n",
        "dcc.Graph(\n",
        "        id='example-graph',\n",
        "        figure={\n",
        "            'data': [\n",
        "                {'x': pa_df['id'] , 'y': pa_df['total_time_elapsed'], 'type': 'bar', 'name': 'Total Time Elapsed'},\n",
        "            ],\n",
        "            'layout': {\n",
        "                'title': 'Total Elapsed Time On Each Particular'\n",
        "            }\n",
        "        }\n",
        "    )\n",
        "            )\n",
        "        ])]\n"
      ],
      "execution_count": null,
      "outputs": []
    },
    {
      "cell_type": "markdown",
      "metadata": {
        "id": "ky9gYOqXJ4aT"
      },
      "source": [
        "**Running the application:**"
      ]
    },
    {
      "cell_type": "code",
      "metadata": {
        "id": "zCmyHVnce_h1",
        "colab": {
          "base_uri": "https://localhost:8080/",
          "height": 51
        },
        "outputId": "dad0ce89-86d2-4bfc-d8ef-37f3d1ff21b2"
      },
      "source": [
        "app.run_server(debug=True)"
      ],
      "execution_count": null,
      "outputs": [
        {
          "output_type": "stream",
          "text": [
            "Dash app running on:\n"
          ],
          "name": "stdout"
        },
        {
          "output_type": "display_data",
          "data": {
            "application/javascript": [
              "(async (port, path, text, element) => {\n",
              "    if (!google.colab.kernel.accessAllowed) {\n",
              "      return;\n",
              "    }\n",
              "    element.appendChild(document.createTextNode(''));\n",
              "    const url = await google.colab.kernel.proxyPort(port);\n",
              "    const anchor = document.createElement('a');\n",
              "    anchor.href = url + path;\n",
              "    anchor.target = '_blank';\n",
              "    anchor.setAttribute('data-href', url + path);\n",
              "    anchor.textContent = text;\n",
              "    element.appendChild(anchor);\n",
              "  })(8050, \"/\", \"http://127.0.0.1:8050/\", window.element)"
            ],
            "text/plain": [
              "<IPython.core.display.Javascript object>"
            ]
          },
          "metadata": {
            "tags": []
          }
        }
      ]
    }
  ]
}